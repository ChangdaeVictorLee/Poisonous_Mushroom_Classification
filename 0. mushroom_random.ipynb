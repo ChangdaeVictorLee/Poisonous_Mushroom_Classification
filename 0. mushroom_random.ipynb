{
 "cells": [
  {
   "cell_type": "code",
   "execution_count": 1,
   "id": "b0473053",
   "metadata": {},
   "outputs": [],
   "source": [
    "import os\n",
    "import shutil\n",
    "import random"
   ]
  },
  {
   "cell_type": "markdown",
   "id": "eac80555",
   "metadata": {},
   "source": [
    "## 랜덤하게 test train 바꾸기"
   ]
  },
  {
   "cell_type": "markdown",
   "id": "5b77d39f",
   "metadata": {},
   "source": [
    "os를 통해 각각 파일이름을 list로 받기"
   ]
  },
  {
   "cell_type": "code",
   "execution_count": 7,
   "id": "d31cac11",
   "metadata": {},
   "outputs": [],
   "source": [
    "not_poison = os.listdir('not_poison')\n",
    "poison = os.listdir('poison')"
   ]
  },
  {
   "cell_type": "code",
   "execution_count": 17,
   "id": "0d6e7157",
   "metadata": {},
   "outputs": [
    {
     "data": {
      "text/plain": [
       "(3261, 3451)"
      ]
     },
     "execution_count": 17,
     "metadata": {},
     "output_type": "execute_result"
    }
   ],
   "source": [
    "len(not_poison), len(poison)"
   ]
  },
  {
   "cell_type": "markdown",
   "id": "87aa5bc0",
   "metadata": {},
   "source": [
    "### 30%를 학습용으로 할당"
   ]
  },
  {
   "cell_type": "code",
   "execution_count": 18,
   "id": "e4ad0c85",
   "metadata": {},
   "outputs": [],
   "source": [
    "random.seed(34)\n",
    "not_poison_val = random.sample(not_poison, int(len(not_poison)* 0.3))\n",
    "poison_val = random.sample(poison, int(len(poison) * 0.3))"
   ]
  },
  {
   "cell_type": "code",
   "execution_count": 34,
   "id": "9aeb1d68",
   "metadata": {},
   "outputs": [
    {
     "name": "stdout",
     "output_type": "stream",
     "text": [
      "not_poison_val, poison_val\n"
     ]
    },
    {
     "data": {
      "text/plain": [
       "(978, 1035)"
      ]
     },
     "execution_count": 34,
     "metadata": {},
     "output_type": "execute_result"
    }
   ],
   "source": [
    "print('not_poison_val, poison_val')\n",
    "len(not_poison_val), len(poison_val)"
   ]
  },
  {
   "cell_type": "markdown",
   "id": "a7e82146",
   "metadata": {},
   "source": [
    "#### 차집합을 활용해 train 분리하기"
   ]
  },
  {
   "cell_type": "code",
   "execution_count": 24,
   "id": "2c0ef7c6",
   "metadata": {},
   "outputs": [],
   "source": [
    "not_poison_train = list(set(not_poison) - set(not_poison_val))"
   ]
  },
  {
   "cell_type": "code",
   "execution_count": 25,
   "id": "54ff04f0",
   "metadata": {},
   "outputs": [],
   "source": [
    "poison_train = list(set(poison) - set(poison_val))"
   ]
  },
  {
   "cell_type": "markdown",
   "id": "d852b152",
   "metadata": {},
   "source": [
    "#### 잘 나뉘었는지 검증\n",
    "poison_val, not_poison_val\n",
    "\n",
    "poison_train, not_poison_train"
   ]
  },
  {
   "cell_type": "code",
   "execution_count": 33,
   "id": "4eb33515",
   "metadata": {},
   "outputs": [
    {
     "name": "stdout",
     "output_type": "stream",
     "text": [
      "not_poison_train, poison_train\n"
     ]
    },
    {
     "data": {
      "text/plain": [
       "(2283, 2416)"
      ]
     },
     "execution_count": 33,
     "metadata": {},
     "output_type": "execute_result"
    }
   ],
   "source": [
    "print('not_poison_train, poison_train')\n",
    "len(not_poison_train), len(poison_train)"
   ]
  },
  {
   "cell_type": "code",
   "execution_count": 27,
   "id": "2cdef11d",
   "metadata": {},
   "outputs": [
    {
     "data": {
      "text/plain": [
       "3261"
      ]
     },
     "execution_count": 27,
     "metadata": {},
     "output_type": "execute_result"
    }
   ],
   "source": [
    "len(not_poison_train) + len(not_poison_val)"
   ]
  },
  {
   "cell_type": "code",
   "execution_count": 28,
   "id": "3581b321",
   "metadata": {},
   "outputs": [
    {
     "data": {
      "text/plain": [
       "3451"
      ]
     },
     "execution_count": 28,
     "metadata": {},
     "output_type": "execute_result"
    }
   ],
   "source": [
    "len(poison_train) + len(poison_val)"
   ]
  },
  {
   "cell_type": "markdown",
   "id": "85452a8c",
   "metadata": {},
   "source": [
    "### 이동하기"
   ]
  },
  {
   "cell_type": "code",
   "execution_count": 30,
   "id": "cdcdf95c",
   "metadata": {},
   "outputs": [],
   "source": [
    "for file_name in not_poison_val:\n",
    "    shutil.move(f'not_poison/{file_name}', 'val/not_poison')"
   ]
  },
  {
   "cell_type": "code",
   "execution_count": 31,
   "id": "25f60fac",
   "metadata": {},
   "outputs": [],
   "source": [
    "for file_name in poison_val:\n",
    "    shutil.move(f'poison/{file_name}', 'val/poison')"
   ]
  },
  {
   "cell_type": "code",
   "execution_count": 35,
   "id": "025b45fe",
   "metadata": {},
   "outputs": [],
   "source": [
    "for file_name in not_poison_train:\n",
    "    shutil.move(f'not_poison/{file_name}', 'train/not_poison')"
   ]
  },
  {
   "cell_type": "code",
   "execution_count": 36,
   "id": "2bdab55d",
   "metadata": {},
   "outputs": [],
   "source": [
    "for file_name in poison_train:\n",
    "    shutil.move(f'poison/{file_name}', 'train/poison')"
   ]
  }
 ],
 "metadata": {
  "kernelspec": {
   "display_name": "Python 3 (ipykernel)",
   "language": "python",
   "name": "python3"
  },
  "language_info": {
   "codemirror_mode": {
    "name": "ipython",
    "version": 3
   },
   "file_extension": ".py",
   "mimetype": "text/x-python",
   "name": "python",
   "nbconvert_exporter": "python",
   "pygments_lexer": "ipython3",
   "version": "3.9.7"
  }
 },
 "nbformat": 4,
 "nbformat_minor": 5
}
